{
 "cells": [
  {
   "cell_type": "markdown",
   "id": "cd90387b-edce-4325-87e1-d5f2604f01c7",
   "metadata": {},
   "source": [
    "# Projet Big Data : Modélisation"
   ]
  },
  {
   "cell_type": "markdown",
   "id": "bc749ff3-d0ac-421f-9bdb-d8bcda4123ec",
   "metadata": {},
   "source": [
    "## 1. Préparation des données"
   ]
  },
  {
   "cell_type": "code",
   "execution_count": 4,
   "id": "c6ff0d3d-f2a1-4c86-81bd-5bd9705ce671",
   "metadata": {},
   "outputs": [],
   "source": [
    "import pandas as pd\n",
    "import numpy as np\n",
    "\n",
    "df = pd.read_csv(\"../data/processed_text.csv\")\n",
    "\n",
    "def detect_label(text):\n",
    "    if isinstance(text, str):\n",
    "        text = text.lower()\n",
    "        if 'formula' in text or 'infant formula' in text or 'bottle' in text:\n",
    "            return 1\n",
    "        elif 'breastfeeding' in text or 'breast milk' in text or 'nursing' in text:\n",
    "            return 0\n",
    "    return np.nan \n",
    "\n",
    "df['label'] = df['clean_text'].apply(detect_label)\n",
    "df = df.dropna(subset=['label'])  # on garde que les textes clairs\n",
    "df['label'] = df['label'].astype(int)"
   ]
  },
  {
   "cell_type": "markdown",
   "id": "f405ba0d-f628-4085-be60-66c05be83c44",
   "metadata": {},
   "source": [
    "## 2. Modélisation"
   ]
  },
  {
   "cell_type": "code",
   "execution_count": 5,
   "id": "131aeabd-37ac-4ae7-86da-30502689729f",
   "metadata": {},
   "outputs": [
    {
     "name": "stdout",
     "output_type": "stream",
     "text": [
      "              precision    recall  f1-score   support\n",
      "\n",
      "           0       1.00      1.00      1.00     32928\n",
      "           1       1.00      0.98      0.99      1205\n",
      "\n",
      "    accuracy                           1.00     34133\n",
      "   macro avg       1.00      0.99      0.99     34133\n",
      "weighted avg       1.00      1.00      1.00     34133\n",
      "\n"
     ]
    }
   ],
   "source": [
    "from sklearn.feature_extraction.text import TfidfVectorizer\n",
    "from sklearn.model_selection import train_test_split\n",
    "from sklearn.linear_model import LogisticRegression\n",
    "from sklearn.pipeline import Pipeline\n",
    "from sklearn.metrics import classification_report\n",
    "\n",
    "# X et y\n",
    "X = df['clean_text']\n",
    "y = df['label']\n",
    "\n",
    "# Split\n",
    "X_train, X_test, y_train, y_test = train_test_split(X, y, test_size=0.2, random_state=42)\n",
    "\n",
    "# Pipeline\n",
    "pipeline = Pipeline([\n",
    "    ('tfidf', TfidfVectorizer(max_features=1000, ngram_range=(1,2))),\n",
    "    ('clf', LogisticRegression())\n",
    "])\n",
    "\n",
    "# Entraînement\n",
    "pipeline.fit(X_train, y_train)\n",
    "\n",
    "# Prédiction et évaluation\n",
    "y_pred = pipeline.predict(X_test)\n",
    "print(classification_report(y_test, y_pred))\n"
   ]
  }
 ],
 "metadata": {
  "kernelspec": {
   "display_name": "Python 3 (ipykernel)",
   "language": "python",
   "name": "python3"
  },
  "language_info": {
   "codemirror_mode": {
    "name": "ipython",
    "version": 3
   },
   "file_extension": ".py",
   "mimetype": "text/x-python",
   "name": "python",
   "nbconvert_exporter": "python",
   "pygments_lexer": "ipython3",
   "version": "3.10.12"
  }
 },
 "nbformat": 4,
 "nbformat_minor": 5
}
