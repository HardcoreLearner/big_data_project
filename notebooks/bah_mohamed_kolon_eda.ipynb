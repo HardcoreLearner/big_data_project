{
 "cells": [
  {
   "cell_type": "markdown",
   "id": "0c430487-e2bc-4639-a65a-43f059eb8f62",
   "metadata": {},
   "source": [
    "# Projet Big Data : EDA"
   ]
  },
  {
   "cell_type": "markdown",
   "id": "9a0e18b3-104c-4c27-96ca-00ba79722bcc",
   "metadata": {},
   "source": [
    "## 1. Importation des bibliothèques"
   ]
  },
  {
   "cell_type": "code",
   "execution_count": 1,
   "id": "7d5e957c-3299-4a11-8573-32bc3364a4f1",
   "metadata": {},
   "outputs": [],
   "source": [
    "import pandas as pd\n",
    "import numpy as np\n",
    "import matplotlib.pyplot as plt\n",
    "import seaborn as sns"
   ]
  },
  {
   "cell_type": "markdown",
   "id": "7ffd5dc4-284e-4850-aa41-e1aa85cf965d",
   "metadata": {},
   "source": [
    "## 2. Chargement des données"
   ]
  },
  {
   "cell_type": "code",
   "execution_count": 4,
   "id": "ff053202-d701-4938-8715-009df46d5aea",
   "metadata": {},
   "outputs": [],
   "source": [
    "df = pd.read_excel(\"../data/Allaitement_3mois.xlsx\")"
   ]
  },
  {
   "cell_type": "markdown",
   "id": "633e258e-e56f-4728-a677-ebab8f7be61a",
   "metadata": {},
   "source": [
    "## 3. Quelle est la forme du DataFrame ? "
   ]
  },
  {
   "cell_type": "code",
   "execution_count": 5,
   "id": "6a426f8f-d166-412b-86e3-f07b46702b9b",
   "metadata": {},
   "outputs": [
    {
     "name": "stdout",
     "output_type": "stream",
     "text": [
      "Forme du DataFrame : (238045, 6)\n"
     ]
    }
   ],
   "source": [
    "print(\"Forme du DataFrame :\", df.shape)"
   ]
  },
  {
   "cell_type": "markdown",
   "id": "a46d1c7b-3f4b-40d7-a944-bac72a62b4d0",
   "metadata": {},
   "source": [
    "## 4. Aperçu général des données"
   ]
  },
  {
   "cell_type": "code",
   "execution_count": 6,
   "id": "0005101c-eb9e-45da-9183-6bcaa854354b",
   "metadata": {},
   "outputs": [
    {
     "data": {
      "text/html": [
       "<div>\n",
       "<style scoped>\n",
       "    .dataframe tbody tr th:only-of-type {\n",
       "        vertical-align: middle;\n",
       "    }\n",
       "\n",
       "    .dataframe tbody tr th {\n",
       "        vertical-align: top;\n",
       "    }\n",
       "\n",
       "    .dataframe thead th {\n",
       "        text-align: right;\n",
       "    }\n",
       "</style>\n",
       "<table border=\"1\" class=\"dataframe\">\n",
       "  <thead>\n",
       "    <tr style=\"text-align: right;\">\n",
       "      <th></th>\n",
       "      <th>status_id</th>\n",
       "      <th>created_at</th>\n",
       "      <th>text</th>\n",
       "      <th>display_text_width</th>\n",
       "      <th>country</th>\n",
       "      <th>day</th>\n",
       "    </tr>\n",
       "  </thead>\n",
       "  <tbody>\n",
       "    <tr>\n",
       "      <th>0</th>\n",
       "      <td>1538941385809747968</td>\n",
       "      <td>2022-06-20 17:46:33</td>\n",
       "      <td>Manic Mondays ☕\\n\\nFrom the 16th century onwar...</td>\n",
       "      <td>140</td>\n",
       "      <td>NaN</td>\n",
       "      <td>Monday</td>\n",
       "    </tr>\n",
       "    <tr>\n",
       "      <th>1</th>\n",
       "      <td>1538941854649032705</td>\n",
       "      <td>2022-06-20 17:48:24</td>\n",
       "      <td>southern softie commented on MailOnline: What ...</td>\n",
       "      <td>196</td>\n",
       "      <td>NaN</td>\n",
       "      <td>Monday</td>\n",
       "    </tr>\n",
       "    <tr>\n",
       "      <th>2</th>\n",
       "      <td>1538942219645861892</td>\n",
       "      <td>2022-06-20 17:49:51</td>\n",
       "      <td>MomToBe Women’s Rayon Maternity Dress/Easy Bre...</td>\n",
       "      <td>163</td>\n",
       "      <td>NaN</td>\n",
       "      <td>Monday</td>\n",
       "    </tr>\n",
       "    <tr>\n",
       "      <th>3</th>\n",
       "      <td>1538942452723335169</td>\n",
       "      <td>2022-06-20 17:50:47</td>\n",
       "      <td>@AlfredMwandagha Good for a breastfeeding bunn...</td>\n",
       "      <td>33</td>\n",
       "      <td>NaN</td>\n",
       "      <td>Monday</td>\n",
       "    </tr>\n",
       "    <tr>\n",
       "      <th>4</th>\n",
       "      <td>1538942645011030016</td>\n",
       "      <td>2022-06-20 17:51:33</td>\n",
       "      <td>We know more about cow’s milk than human milk....</td>\n",
       "      <td>140</td>\n",
       "      <td>NaN</td>\n",
       "      <td>Monday</td>\n",
       "    </tr>\n",
       "  </tbody>\n",
       "</table>\n",
       "</div>"
      ],
      "text/plain": [
       "             status_id          created_at  \\\n",
       "0  1538941385809747968 2022-06-20 17:46:33   \n",
       "1  1538941854649032705 2022-06-20 17:48:24   \n",
       "2  1538942219645861892 2022-06-20 17:49:51   \n",
       "3  1538942452723335169 2022-06-20 17:50:47   \n",
       "4  1538942645011030016 2022-06-20 17:51:33   \n",
       "\n",
       "                                                text  display_text_width  \\\n",
       "0  Manic Mondays ☕\\n\\nFrom the 16th century onwar...                 140   \n",
       "1  southern softie commented on MailOnline: What ...                 196   \n",
       "2  MomToBe Women’s Rayon Maternity Dress/Easy Bre...                 163   \n",
       "3  @AlfredMwandagha Good for a breastfeeding bunn...                  33   \n",
       "4  We know more about cow’s milk than human milk....                 140   \n",
       "\n",
       "  country     day  \n",
       "0     NaN  Monday  \n",
       "1     NaN  Monday  \n",
       "2     NaN  Monday  \n",
       "3     NaN  Monday  \n",
       "4     NaN  Monday  "
      ]
     },
     "execution_count": 6,
     "metadata": {},
     "output_type": "execute_result"
    }
   ],
   "source": [
    "df.head()"
   ]
  },
  {
   "cell_type": "markdown",
   "id": "9d698a2e-029b-4b5f-9ff5-6d94a817d7de",
   "metadata": {},
   "source": [
    " ## 5. Y a-t-il des valeurs manquantes ?"
   ]
  },
  {
   "cell_type": "code",
   "execution_count": 7,
   "id": "06b190fc-035e-45a6-a818-f01e255d5920",
   "metadata": {},
   "outputs": [
    {
     "data": {
      "text/plain": [
       "status_id                  0\n",
       "created_at                 0\n",
       "text                    9987\n",
       "display_text_width         0\n",
       "country               237560\n",
       "day                        0\n",
       "dtype: int64"
      ]
     },
     "execution_count": 7,
     "metadata": {},
     "output_type": "execute_result"
    }
   ],
   "source": [
    "df.isnull().sum()"
   ]
  },
  {
   "cell_type": "code",
   "execution_count": 8,
   "id": "a706328b-9b5b-41be-852d-ed5f91110052",
   "metadata": {},
   "outputs": [
    {
     "data": {
      "image/png": "[encoded data removed]",
      "text/plain": [
       "<Figure size 640x480 with 1 Axes>"
      ]
     },
     "metadata": {},
     "output_type": "display_data"
    }
   ],
   "source": [
    "sns.heatmap(df.isnull(), cbar=False)\n",
    "plt.title(\"Visualisation des valeurs manquantes\")\n",
    "plt.show()"
   ]
  },
  {
   "cell_type": "markdown",
   "id": "6e7b2f1e-cdaa-4c4b-96d5-19bfecad95ab",
   "metadata": {},
   "source": [
    "## 6. Y a-t-il des valeurs dupliquées ?"
   ]
  },
  {
   "cell_type": "code",
   "execution_count": 9,
   "id": "1fde15b7-54eb-425e-bc70-cea6c756ec57",
   "metadata": {},
   "outputs": [
    {
     "name": "stdout",
     "output_type": "stream",
     "text": [
      "Nombre de lignes dupliquées : 24142\n"
     ]
    }
   ],
   "source": [
    "nb_duplicated = df.duplicated().sum()\n",
    "print(f\"Nombre de lignes dupliquées : {nb_duplicated}\")"
   ]
  },
  {
   "cell_type": "markdown",
   "id": "08851981-1881-4ca6-a2a7-1cf8c29c76a3",
   "metadata": {},
   "source": [
    "## 7. Quelles sont les colonnes qui vont nous intéresser ?"
   ]
  },
  {
   "cell_type": "code",
   "execution_count": 10,
   "id": "cdb8e4d3-e3f6-4375-9174-d1f80636f739",
   "metadata": {},
   "outputs": [
    {
     "data": {
      "text/plain": [
       "status_id                      int64\n",
       "created_at            datetime64[ns]\n",
       "text                          object\n",
       "display_text_width             int64\n",
       "country                       object\n",
       "day                           object\n",
       "dtype: object"
      ]
     },
     "execution_count": 10,
     "metadata": {},
     "output_type": "execute_result"
    }
   ],
   "source": [
    "df.columns\n",
    "df.dtypes"
   ]
  },
  {
   "cell_type": "code",
   "execution_count": 11,
   "id": "9a8af6a0-f6bc-4e98-b1fd-388d4effbf38",
   "metadata": {},
   "outputs": [],
   "source": [
    "# On retire les lignes sans texte\n",
    "df = df.dropna(subset=['text'])\n",
    "\n",
    "# Colonnes retenues\n",
    "df = df[['status_id', 'created_at', 'text', 'display_text_width']]"
   ]
  },
  {
   "cell_type": "markdown",
   "id": "d477fdb3-4192-4be0-8004-6111e13f2169",
   "metadata": {},
   "source": [
    "## 8. Y a-t-il des données aberrantes ou incohérences majeures ?"
   ]
  },
  {
   "cell_type": "code",
   "execution_count": 12,
   "id": "f6da61df-8a51-4358-8b7b-7dad3ea407b6",
   "metadata": {},
   "outputs": [
    {
     "name": "stdout",
     "output_type": "stream",
     "text": [
      "count    228058.000000\n",
      "mean        161.272404\n",
      "std          71.223563\n",
      "min          13.000000\n",
      "25%         133.000000\n",
      "50%         140.000000\n",
      "75%         199.000000\n",
      "max         997.000000\n",
      "Name: text_length, dtype: float64\n"
     ]
    }
   ],
   "source": [
    "df['text_length'] = df['text'].apply(lambda x: len(str(x)))\n",
    "print(df['text_length'].describe())\n",
    "\n",
    "df = df[df['text_length'] >= 15]"
   ]
  },
  {
   "cell_type": "code",
   "execution_count": 13,
   "id": "86a70029-4885-4de3-9cf4-ddc680a9521b",
   "metadata": {},
   "outputs": [
    {
     "name": "stdout",
     "output_type": "stream",
     "text": [
      "count    228039.000000\n",
      "mean        145.020159\n",
      "std          56.383974\n",
      "min           0.000000\n",
      "25%         132.000000\n",
      "50%         140.000000\n",
      "75%         143.000000\n",
      "max         973.000000\n",
      "Name: display_text_width, dtype: float64\n"
     ]
    },
    {
     "data": {
      "text/html": [
       "<div>\n",
       "<style scoped>\n",
       "    .dataframe tbody tr th:only-of-type {\n",
       "        vertical-align: middle;\n",
       "    }\n",
       "\n",
       "    .dataframe tbody tr th {\n",
       "        vertical-align: top;\n",
       "    }\n",
       "\n",
       "    .dataframe thead th {\n",
       "        text-align: right;\n",
       "    }\n",
       "</style>\n",
       "<table border=\"1\" class=\"dataframe\">\n",
       "  <thead>\n",
       "    <tr style=\"text-align: right;\">\n",
       "      <th></th>\n",
       "      <th>status_id</th>\n",
       "      <th>created_at</th>\n",
       "      <th>text</th>\n",
       "      <th>display_text_width</th>\n",
       "      <th>text_length</th>\n",
       "    </tr>\n",
       "  </thead>\n",
       "  <tbody>\n",
       "  </tbody>\n",
       "</table>\n",
       "</div>"
      ],
      "text/plain": [
       "Empty DataFrame\n",
       "Columns: [status_id, created_at, text, display_text_width, text_length]\n",
       "Index: []"
      ]
     },
     "execution_count": 13,
     "metadata": {},
     "output_type": "execute_result"
    }
   ],
   "source": [
    "# Vérification statistique\n",
    "print(df['display_text_width'].describe())\n",
    "\n",
    "# Cas suspects : texte court mais display_text_width élevé\n",
    "df[(df['text_length'] < 30) & (df['display_text_width'] > 100)]"
   ]
  },
  {
   "cell_type": "code",
   "execution_count": 14,
   "id": "80869c7a-c1e8-462a-82cf-093d024650fa",
   "metadata": {},
   "outputs": [
    {
     "name": "stdout",
     "output_type": "stream",
     "text": [
      "Dates manquantes : 0\n",
      "Plage de dates : 2022-06-20 17:46:33 → 2022-09-20 23:59:46\n"
     ]
    }
   ],
   "source": [
    "print(\"Dates manquantes :\", df['created_at'].isna().sum())\n",
    "print(\"Plage de dates :\", df['created_at'].min(), \"→\", df['created_at'].max())\n",
    "\n",
    "# Suppression si date future (optionnel)\n",
    "df = df[df['created_at'] <= pd.Timestamp.now()]"
   ]
  },
  {
   "cell_type": "markdown",
   "id": "f202b5e1-8261-40e5-bea4-81b654c367a7",
   "metadata": {},
   "source": [
    "## 9. Premiers nettoyages"
   ]
  },
  {
   "cell_type": "code",
   "execution_count": 16,
   "id": "be0702d5-6b29-4e80-aa4d-9da899a47242",
   "metadata": {},
   "outputs": [],
   "source": [
    "# Suppression des textes trop courts\n",
    "df = df[df['text_length'] >= 15]\n",
    "\n",
    "# Réinitialisation des index\n",
    "df = df.reset_index(drop=True)"
   ]
  },
  {
   "cell_type": "markdown",
   "id": "c4940f85-1402-486c-a821-f76a7bfd3c60",
   "metadata": {},
   "source": [
    "## 10. Sauvegarde du DataFrame nettoyé"
   ]
  },
  {
   "cell_type": "code",
   "execution_count": 17,
   "id": "3e80bebe-26f3-4896-8ff4-285d9c1506ff",
   "metadata": {},
   "outputs": [],
   "source": [
    "df.to_csv(\"../data/cleaned_data.csv\", index=False)"
   ]
  },
  {
   "cell_type": "code",
   "execution_count": 18,
   "id": "5edf2845-b000-45dc-9471-50cd05ca457d",
   "metadata": {},
   "outputs": [
    {
     "data": {
      "text/html": [
       "<div>\n",
       "<style scoped>\n",
       "    .dataframe tbody tr th:only-of-type {\n",
       "        vertical-align: middle;\n",
       "    }\n",
       "\n",
       "    .dataframe tbody tr th {\n",
       "        vertical-align: top;\n",
       "    }\n",
       "\n",
       "    .dataframe thead th {\n",
       "        text-align: right;\n",
       "    }\n",
       "</style>\n",
       "<table border=\"1\" class=\"dataframe\">\n",
       "  <thead>\n",
       "    <tr style=\"text-align: right;\">\n",
       "      <th></th>\n",
       "      <th>status_id</th>\n",
       "      <th>created_at</th>\n",
       "      <th>text</th>\n",
       "      <th>display_text_width</th>\n",
       "      <th>text_length</th>\n",
       "    </tr>\n",
       "  </thead>\n",
       "  <tbody>\n",
       "    <tr>\n",
       "      <th>0</th>\n",
       "      <td>1538941385809747968</td>\n",
       "      <td>2022-06-20 17:46:33</td>\n",
       "      <td>Manic Mondays ☕\\n\\nFrom the 16th century onwar...</td>\n",
       "      <td>140</td>\n",
       "      <td>299</td>\n",
       "    </tr>\n",
       "    <tr>\n",
       "      <th>1</th>\n",
       "      <td>1538941854649032705</td>\n",
       "      <td>2022-06-20 17:48:24</td>\n",
       "      <td>southern softie commented on MailOnline: What ...</td>\n",
       "      <td>196</td>\n",
       "      <td>196</td>\n",
       "    </tr>\n",
       "    <tr>\n",
       "      <th>2</th>\n",
       "      <td>1538942219645861892</td>\n",
       "      <td>2022-06-20 17:49:51</td>\n",
       "      <td>MomToBe Women’s Rayon Maternity Dress/Easy Bre...</td>\n",
       "      <td>163</td>\n",
       "      <td>163</td>\n",
       "    </tr>\n",
       "    <tr>\n",
       "      <th>3</th>\n",
       "      <td>1538942452723335169</td>\n",
       "      <td>2022-06-20 17:50:47</td>\n",
       "      <td>@AlfredMwandagha Good for a breastfeeding bunn...</td>\n",
       "      <td>33</td>\n",
       "      <td>50</td>\n",
       "    </tr>\n",
       "    <tr>\n",
       "      <th>4</th>\n",
       "      <td>1538942645011030016</td>\n",
       "      <td>2022-06-20 17:51:33</td>\n",
       "      <td>We know more about cow’s milk than human milk....</td>\n",
       "      <td>140</td>\n",
       "      <td>197</td>\n",
       "    </tr>\n",
       "  </tbody>\n",
       "</table>\n",
       "</div>"
      ],
      "text/plain": [
       "             status_id          created_at  \\\n",
       "0  1538941385809747968 2022-06-20 17:46:33   \n",
       "1  1538941854649032705 2022-06-20 17:48:24   \n",
       "2  1538942219645861892 2022-06-20 17:49:51   \n",
       "3  1538942452723335169 2022-06-20 17:50:47   \n",
       "4  1538942645011030016 2022-06-20 17:51:33   \n",
       "\n",
       "                                                text  display_text_width  \\\n",
       "0  Manic Mondays ☕\\n\\nFrom the 16th century onwar...                 140   \n",
       "1  southern softie commented on MailOnline: What ...                 196   \n",
       "2  MomToBe Women’s Rayon Maternity Dress/Easy Bre...                 163   \n",
       "3  @AlfredMwandagha Good for a breastfeeding bunn...                  33   \n",
       "4  We know more about cow’s milk than human milk....                 140   \n",
       "\n",
       "   text_length  \n",
       "0          299  \n",
       "1          196  \n",
       "2          163  \n",
       "3           50  \n",
       "4          197  "
      ]
     },
     "execution_count": 18,
     "metadata": {},
     "output_type": "execute_result"
    }
   ],
   "source": [
    "# Aperçu du DataFrame final\n",
    "df.head()"
   ]
  }
 ],
 "metadata": {
  "kernelspec": {
   "display_name": "Python 3 (ipykernel)",
   "language": "python",
   "name": "python3"
  },
  "language_info": {
   "codemirror_mode": {
    "name": "ipython",
    "version": 3
   },
   "file_extension": ".py",
   "mimetype": "text/x-python",
   "name": "python",
   "nbconvert_exporter": "python",
   "pygments_lexer": "ipython3",
   "version": "3.10.12"
  }
 },
 "nbformat": 4,
 "nbformat_minor": 5
}
